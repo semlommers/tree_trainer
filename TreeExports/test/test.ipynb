{
 "cells": [
  {
   "cell_type": "code",
   "execution_count": 1,
   "metadata": {
    "collapsed": true,
    "pycharm": {
     "name": "#%%\n"
    }
   },
   "outputs": [],
   "source": [
    "from sklearn.compose import ColumnTransformer\n",
    "from sklearn.ensemble import RandomForestClassifier, RandomForestRegressor\n",
    "from sklearn.datasets import load_iris, load_diabetes, load_wine\n",
    "from sklearn.model_selection import cross_validate, train_test_split\n",
    "from sklearn.preprocessing import OneHotEncoder\n",
    "from sklearn.tree import BaseDecisionTree, plot_tree\n",
    "import matplotlib.pyplot as plt\n",
    "import json\n",
    "import numpy as np\n",
    "import pandas as pd\n",
    "from sklearn.impute import SimpleImputer\n",
    "from TreeExports.iris.tree_trainer import export_names, export_forest_json, export_dataset\n",
    "from sklearn.utils import shuffle\n"
   ]
  },
  {
   "cell_type": "code",
   "execution_count": 3,
   "outputs": [],
   "source": [
    "df = pd.read_csv(\"winequalityN.csv\")"
   ],
   "metadata": {
    "collapsed": false,
    "pycharm": {
     "name": "#%%\n"
    }
   }
  },
  {
   "cell_type": "code",
   "execution_count": 4,
   "outputs": [],
   "source": [
    "df[\"type\"] = np.where(df[\"type\"] == \"white\", 0, 1)\n",
    "df[\"quality\"] = np.where(df[\"quality\"] <= 5, 0, 1)\n",
    "df = df.dropna()"
   ],
   "metadata": {
    "collapsed": false,
    "pycharm": {
     "name": "#%%\n"
    }
   }
  },
  {
   "cell_type": "code",
   "execution_count": 5,
   "outputs": [],
   "source": [
    "X = df.drop(\"quality\", axis=1)"
   ],
   "metadata": {
    "collapsed": false,
    "pycharm": {
     "name": "#%%\n"
    }
   }
  },
  {
   "cell_type": "code",
   "execution_count": 6,
   "outputs": [],
   "source": [
    "y = df.loc[:, \"quality\"]"
   ],
   "metadata": {
    "collapsed": false,
    "pycharm": {
     "name": "#%%\n"
    }
   }
  },
  {
   "cell_type": "code",
   "execution_count": 7,
   "outputs": [],
   "source": [
    "X_columns = X.columns.tolist()"
   ],
   "metadata": {
    "collapsed": false,
    "pycharm": {
     "name": "#%%\n"
    }
   }
  },
  {
   "cell_type": "code",
   "execution_count": 7,
   "outputs": [],
   "source": [],
   "metadata": {
    "collapsed": false,
    "pycharm": {
     "name": "#%%\n"
    }
   }
  },
  {
   "cell_type": "code",
   "execution_count": 8,
   "outputs": [],
   "source": [
    "# dataset = load_iris()\n",
    "#\n",
    "# X = dataset.data\n",
    "# y = dataset.target\n",
    "# X_columns = dataset[\"feature_names\"]"
   ],
   "metadata": {
    "collapsed": false,
    "pycharm": {
     "name": "#%%\n"
    }
   }
  },
  {
   "cell_type": "code",
   "execution_count": 9,
   "outputs": [],
   "source": [
    "X, y = shuffle(X, y, random_state=14)"
   ],
   "metadata": {
    "collapsed": false,
    "pycharm": {
     "name": "#%%\n"
    }
   }
  },
  {
   "cell_type": "code",
   "execution_count": 10,
   "outputs": [],
   "source": [
    "X_train, X_test, y_train, y_test = train_test_split(X, y, random_state=34)"
   ],
   "metadata": {
    "collapsed": false,
    "pycharm": {
     "name": "#%%\n"
    }
   }
  },
  {
   "cell_type": "code",
   "execution_count": 11,
   "outputs": [
    {
     "name": "stderr",
     "output_type": "stream",
     "text": [
      "[Parallel(n_jobs=1)]: Using backend SequentialBackend with 1 concurrent workers.\n",
      "[Parallel(n_jobs=1)]: Done   5 out of   5 | elapsed:    0.0s finished\n"
     ]
    }
   ],
   "source": [
    "rf = RandomForestClassifier(n_estimators=5, verbose=1, random_state=14)\n",
    "result = rf.fit(X_train, y_train)"
   ],
   "metadata": {
    "collapsed": false,
    "pycharm": {
     "name": "#%%\n"
    }
   }
  },
  {
   "cell_type": "code",
   "execution_count": 12,
   "outputs": [
    {
     "name": "stderr",
     "output_type": "stream",
     "text": [
      "[Parallel(n_jobs=1)]: Using backend SequentialBackend with 1 concurrent workers.\n",
      "[Parallel(n_jobs=1)]: Done   5 out of   5 | elapsed:    0.0s finished\n"
     ]
    },
    {
     "data": {
      "text/plain": "0.7858910891089109"
     },
     "execution_count": 12,
     "metadata": {},
     "output_type": "execute_result"
    }
   ],
   "source": [
    "rf.score(X_test, y_test)"
   ],
   "metadata": {
    "collapsed": false,
    "pycharm": {
     "name": "#%%\n"
    }
   }
  },
  {
   "cell_type": "code",
   "execution_count": 13,
   "outputs": [],
   "source": [
    "# last_estimator = result['estimator'][-1]\n",
    "export_forest_json(rf)\n",
    "export_names(X_columns, [\"Bad\", \"Good\"])\n",
    "export_dataset(X_train, y_train, X_columns, \"trainDataset.csv\")\n",
    "export_dataset(X_test, y_test, X_columns, \"testDataset.csv\")"
   ],
   "metadata": {
    "collapsed": false,
    "pycharm": {
     "name": "#%%\n"
    }
   }
  },
  {
   "cell_type": "code",
   "execution_count": 13,
   "outputs": [],
   "source": [],
   "metadata": {
    "collapsed": false,
    "pycharm": {
     "name": "#%%\n"
    }
   }
  },
  {
   "cell_type": "code",
   "execution_count": 14,
   "outputs": [],
   "source": [
    "trees = rf.estimators_"
   ],
   "metadata": {
    "collapsed": false,
    "pycharm": {
     "name": "#%%\n"
    }
   }
  },
  {
   "cell_type": "code",
   "execution_count": 16,
   "outputs": [
    {
     "name": "stderr",
     "output_type": "stream",
     "text": [
      "C:\\Users\\20172077\\.virtualenvs\\python_tree_trainer\\lib\\site-packages\\sklearn\\base.py:402: UserWarning: X has feature names, but DecisionTreeClassifier was fitted without feature names\n",
      "  warnings.warn(\n",
      "C:\\Users\\20172077\\.virtualenvs\\python_tree_trainer\\lib\\site-packages\\sklearn\\base.py:402: UserWarning: X has feature names, but DecisionTreeClassifier was fitted without feature names\n",
      "  warnings.warn(\n"
     ]
    },
    {
     "data": {
      "text/plain": "838"
     },
     "execution_count": 16,
     "metadata": {},
     "output_type": "execute_result"
    }
   ],
   "source": [
    "tree1_predictions = trees[0].predict(X_train)\n",
    "tree2_predictions = trees[1].predict(X_train)\n",
    "\n",
    "np.count_nonzero((tree1_predictions == tree2_predictions) == False)"
   ],
   "metadata": {
    "collapsed": false,
    "pycharm": {
     "name": "#%%\n"
    }
   }
  },
  {
   "cell_type": "code",
   "execution_count": 17,
   "outputs": [
    {
     "data": {
      "text/plain": "array([ True,  True,  True, ..., False,  True,  True])"
     },
     "execution_count": 17,
     "metadata": {},
     "output_type": "execute_result"
    }
   ],
   "source": [
    "tree1_predictions == tree2_predictions"
   ],
   "metadata": {
    "collapsed": false,
    "pycharm": {
     "name": "#%%\n"
    }
   }
  },
  {
   "cell_type": "code",
   "execution_count": 18,
   "outputs": [
    {
     "data": {
      "text/plain": "(array([  18,   29,   42,   47,   48,   52,   57,   65,   70,   72,   77,\n          78,   81,   83,   87,   92,   93,   95,   99,  100,  103,  104,\n         107,  110,  111,  115,  119,  123,  133,  134,  135,  154,  158,\n         160,  165,  167,  168,  174,  177,  182,  186,  189,  191,  201,\n         205,  208,  216,  222,  225,  232,  234,  236,  250,  252,  257,\n         258,  264,  268,  274,  278,  280,  282,  285,  289,  300,  308,\n         314,  316,  319,  339,  342,  347,  356,  368,  377,  400,  402,\n         407,  410,  417,  418,  421,  425,  433,  436,  444,  445,  461,\n         462,  465,  466,  471,  475,  483,  487,  489,  496,  501,  507,\n         508,  518,  519,  525,  528,  530,  534,  539,  553,  555,  558,\n         581,  582,  584,  590,  592,  597,  622,  627,  631,  632,  641,\n         643,  648,  649,  658,  660,  664,  676,  681,  684,  685,  699,\n         704,  710,  721,  731,  747,  751,  754,  758,  760,  762,  778,\n         782,  787,  791,  792,  794,  797,  819,  828,  829,  831,  845,\n         853,  854,  868,  872,  877,  885,  887,  890,  893,  897,  904,\n         910,  912,  916,  917,  921,  927,  930,  932,  934,  941,  944,\n         949,  953,  954,  955,  958,  959,  967,  968,  980,  987,  994,\n         998, 1000, 1008, 1010, 1017, 1022, 1028, 1029, 1035, 1036, 1045,\n        1048, 1049, 1053, 1054, 1062, 1074, 1077, 1081, 1083, 1096, 1097,\n        1105, 1112, 1114, 1116, 1124, 1125, 1131, 1133, 1147, 1153, 1168,\n        1170, 1174, 1187, 1188, 1202, 1203, 1210, 1216, 1218, 1234, 1246,\n        1252, 1265, 1267, 1283, 1285, 1292, 1296, 1297, 1302, 1305, 1309,\n        1315, 1316, 1320, 1323, 1343, 1347, 1352, 1358, 1363, 1370, 1371,\n        1375, 1380, 1399, 1401, 1402, 1406, 1414, 1424, 1427, 1429, 1431,\n        1440, 1456, 1466, 1472, 1486, 1487, 1492, 1495, 1509, 1513, 1516,\n        1533, 1540, 1542, 1548, 1557, 1567, 1579, 1581, 1584, 1586, 1589,\n        1592, 1593, 1595, 1613, 1615, 1617, 1618, 1619, 1622, 1631, 1636,\n        1646, 1650, 1657, 1666, 1670, 1675, 1683, 1684, 1685, 1687, 1689,\n        1700, 1704, 1705, 1719, 1726, 1730, 1735, 1736, 1741, 1742, 1745,\n        1748, 1749, 1753, 1767, 1777, 1778, 1789, 1796, 1798, 1799, 1807,\n        1811, 1826, 1830, 1838, 1868, 1873, 1875, 1892, 1904, 1906, 1908,\n        1916, 1931, 1940, 1941, 1945, 1948, 1950, 1956, 1977, 1979, 1980,\n        1984, 1986, 1987, 1989, 1994, 2003, 2025, 2029, 2037, 2041, 2049,\n        2051, 2060, 2065, 2067, 2069, 2072, 2077, 2078, 2080, 2089, 2097,\n        2100, 2114, 2115, 2118, 2125, 2126, 2137, 2144, 2152, 2155, 2162,\n        2163, 2173, 2179, 2181, 2185, 2189, 2213, 2229, 2231, 2236, 2239,\n        2241, 2242, 2243, 2244, 2245, 2246, 2254, 2257, 2261, 2265, 2266,\n        2279, 2281, 2283, 2287, 2294, 2299, 2305, 2313, 2316, 2330, 2331,\n        2333, 2346, 2350, 2354, 2359, 2365, 2372, 2404, 2417, 2419, 2428,\n        2442, 2445, 2446, 2447, 2456, 2460, 2481, 2483, 2488, 2503, 2511,\n        2525, 2532, 2536, 2548, 2551, 2557, 2559, 2568, 2584, 2586, 2592,\n        2599, 2614, 2628, 2644, 2645, 2658, 2664, 2665, 2666, 2673, 2676,\n        2677, 2682, 2683, 2690, 2698, 2709, 2739, 2744, 2745, 2746, 2747,\n        2748, 2749, 2754, 2755, 2757, 2758, 2763, 2774, 2778, 2797, 2801,\n        2804, 2809, 2814, 2818, 2827, 2828, 2841, 2842, 2844, 2848, 2854,\n        2866, 2871, 2877, 2878, 2880, 2884, 2889, 2896, 2900, 2902, 2911,\n        2914, 2917, 2926, 2936, 2939, 2941, 2945, 2953, 2957, 2966, 2969,\n        2971, 2975, 2985, 2997, 3000, 3001, 3014, 3048, 3051, 3062, 3064,\n        3065, 3066, 3067, 3069, 3084, 3088, 3097, 3099, 3110, 3122, 3138,\n        3140, 3142, 3153, 3157, 3165, 3171, 3181, 3184, 3187, 3188, 3194,\n        3202, 3211, 3214, 3223, 3231, 3237, 3240, 3242, 3246, 3247, 3287,\n        3290, 3294, 3297, 3299, 3301, 3302, 3319, 3320, 3325, 3335, 3337,\n        3343, 3351, 3353, 3368, 3371, 3376, 3390, 3393, 3397, 3409, 3412,\n        3415, 3428, 3430, 3439, 3441, 3444, 3445, 3446, 3448, 3454, 3463,\n        3473, 3480, 3485, 3490, 3491, 3505, 3525, 3527, 3543, 3552, 3557,\n        3558, 3562, 3565, 3568, 3573, 3576, 3580, 3581, 3582, 3587, 3593,\n        3595, 3602, 3618, 3621, 3624, 3626, 3630, 3631, 3634, 3638, 3664,\n        3669, 3684, 3695, 3705, 3708, 3716, 3717, 3718, 3725, 3728, 3738,\n        3745, 3753, 3757, 3774, 3776, 3780, 3782, 3786, 3789, 3796, 3798,\n        3802, 3808, 3812, 3818, 3823, 3830, 3831, 3834, 3837, 3844, 3846,\n        3849, 3856, 3858, 3865, 3866, 3874, 3879, 3880, 3887, 3889, 3892,\n        3897, 3901, 3904, 3906, 3907, 3908, 3910, 3913, 3918, 3924, 3926,\n        3927, 3935, 3938, 3965, 3988, 3992, 4002, 4003, 4004, 4007, 4008,\n        4041, 4042, 4047, 4060, 4064, 4065, 4067, 4070, 4071, 4072, 4085,\n        4086, 4088, 4105, 4112, 4117, 4119, 4124, 4125, 4137, 4146, 4149,\n        4164, 4172, 4182, 4188, 4189, 4193, 4210, 4230, 4231, 4233, 4241,\n        4242, 4245, 4250, 4254, 4269, 4271, 4274, 4276, 4279, 4287, 4291,\n        4302, 4305, 4320, 4326, 4337, 4339, 4343, 4344, 4347, 4353, 4354,\n        4360, 4367, 4374, 4378, 4379, 4382, 4383, 4387, 4395, 4396, 4398,\n        4402, 4404, 4408, 4409, 4418, 4420, 4433, 4440, 4447, 4450, 4455,\n        4460, 4464, 4467, 4472, 4476, 4479, 4481, 4498, 4507, 4508, 4516,\n        4521, 4525, 4536, 4537, 4547, 4550, 4554, 4561, 4563, 4564, 4570,\n        4571, 4577, 4584, 4585, 4588, 4589, 4592, 4611, 4613, 4618, 4622,\n        4632, 4635, 4643, 4661, 4662, 4669, 4676, 4678, 4680, 4693, 4700,\n        4703, 4705, 4711, 4730, 4731, 4739, 4743, 4750, 4764, 4770, 4771,\n        4772, 4775, 4777, 4778, 4780, 4788, 4799, 4805, 4812, 4823, 4828,\n        4834, 4844], dtype=int32),)"
     },
     "execution_count": 18,
     "metadata": {},
     "output_type": "execute_result"
    }
   ],
   "source": [
    "np.where((tree1_predictions == tree2_predictions) == False)"
   ],
   "metadata": {
    "collapsed": false,
    "pycharm": {
     "name": "#%%\n"
    }
   }
  },
  {
   "cell_type": "code",
   "execution_count": null,
   "outputs": [],
   "source": [
    "320\n",
    "544\n",
    "882\n",
    "985\n",
    "1021\n",
    "1550\n",
    "2492\n",
    "2546\n",
    "2699\n",
    "3046\n",
    "3703\n",
    "3894\n",
    "4180\n",
    "4594\n",
    "4668"
   ],
   "metadata": {
    "collapsed": false,
    "pycharm": {
     "name": "#%%\n"
    }
   }
  },
  {
   "cell_type": "code",
   "execution_count": 35,
   "outputs": [
    {
     "data": {
      "text/plain": "array([0.000e+00, 6.400e+00, 2.600e-01, 2.200e-01, 5.100e+00, 3.700e-02,\n       2.300e+01, 1.310e+02, 9.944e-01, 3.290e+00, 3.200e-01, 1.010e+01])"
     },
     "execution_count": 35,
     "metadata": {},
     "output_type": "execute_result"
    }
   ],
   "source": [
    "np.array(X_train.reset_index(drop=True))[320]"
   ],
   "metadata": {
    "collapsed": false,
    "pycharm": {
     "name": "#%%\n"
    }
   }
  },
  {
   "cell_type": "code",
   "execution_count": 47,
   "outputs": [
    {
     "data": {
      "text/plain": "(1616, 12)"
     },
     "execution_count": 47,
     "metadata": {},
     "output_type": "execute_result"
    }
   ],
   "source": [
    "X_test.shape"
   ],
   "metadata": {
    "collapsed": false,
    "pycharm": {
     "name": "#%%\n"
    }
   }
  },
  {
   "cell_type": "code",
   "execution_count": 122,
   "outputs": [
    {
     "data": {
      "text/plain": "array([1., 1., 1., ..., 1., 1., 1.])"
     },
     "execution_count": 122,
     "metadata": {},
     "output_type": "execute_result"
    }
   ],
   "source": [
    "tree2_predictions"
   ],
   "metadata": {
    "collapsed": false,
    "pycharm": {
     "name": "#%%\n"
    }
   }
  },
  {
   "cell_type": "code",
   "execution_count": 22,
   "outputs": [
    {
     "data": {
      "text/plain": "24"
     },
     "execution_count": 22,
     "metadata": {},
     "output_type": "execute_result"
    }
   ],
   "source": [
    "trees[0].get_depth()"
   ],
   "metadata": {
    "collapsed": false,
    "pycharm": {
     "name": "#%%\n"
    }
   }
  },
  {
   "cell_type": "code",
   "execution_count": 130,
   "outputs": [
    {
     "data": {
      "text/plain": "array([[0.000e+00, 6.800e+00, 2.900e-01, 5.600e-01, 1.190e+01, 4.300e-02,\n        6.600e+01, 2.300e+02, 9.972e-01, 3.020e+00, 6.300e-01, 9.300e+00]])"
     },
     "execution_count": 130,
     "metadata": {},
     "output_type": "execute_result"
    }
   ],
   "source": [
    "np.array(X_train.reset_index(drop=True))[30].reshape(-1,12)"
   ],
   "metadata": {
    "collapsed": false,
    "pycharm": {
     "name": "#%%\n"
    }
   }
  },
  {
   "cell_type": "code",
   "execution_count": 133,
   "outputs": [
    {
     "data": {
      "text/plain": "6.75"
     },
     "execution_count": 133,
     "metadata": {},
     "output_type": "execute_result"
    }
   ],
   "source": [
    "trees[0].tree_.threshold[1125]"
   ],
   "metadata": {
    "collapsed": false,
    "pycharm": {
     "name": "#%%\n"
    }
   }
  },
  {
   "cell_type": "code",
   "execution_count": 132,
   "outputs": [
    {
     "data": {
      "text/plain": "array([0.])"
     },
     "execution_count": 132,
     "metadata": {},
     "output_type": "execute_result"
    }
   ],
   "source": [
    "trees[0].apply(np.array(X_train.reset_index(drop=True))[30].reshape(-1,12))"
   ],
   "metadata": {
    "collapsed": false,
    "pycharm": {
     "name": "#%%\n"
    }
   }
  },
  {
   "cell_type": "code",
   "execution_count": null,
   "outputs": [],
   "source": [],
   "metadata": {
    "collapsed": false,
    "pycharm": {
     "name": "#%%\n"
    }
   }
  }
 ],
 "metadata": {
  "kernelspec": {
   "display_name": "Python 3",
   "language": "python",
   "name": "python3"
  },
  "language_info": {
   "codemirror_mode": {
    "name": "ipython",
    "version": 2
   },
   "file_extension": ".py",
   "mimetype": "text/x-python",
   "name": "python",
   "nbconvert_exporter": "python",
   "pygments_lexer": "ipython2",
   "version": "2.7.6"
  }
 },
 "nbformat": 4,
 "nbformat_minor": 0
}